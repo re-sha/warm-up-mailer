{
 "cells": [
  {
   "cell_type": "code",
   "execution_count": 44,
   "id": "13a80c13-91ed-43db-9836-2e16d9106f91",
   "metadata": {},
   "outputs": [
    {
     "name": "stdout",
     "output_type": "stream",
     "text": [
      "How can I assist you today?\n"
     ]
    }
   ],
   "source": [
    "from langchain_groq import ChatGroq\n",
    "\n",
    "llm = ChatGroq(\n",
    "    model=\"llama-3.1-70b-versatile\",\n",
    "    temperature=0,\n",
    "    groq_api_key=\"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\"\n",
    ")\n",
    "\n",
    "response = llm.invoke(\"Hi\")\n",
    "print(response.content)"
   ]
  },
  {
   "cell_type": "code",
   "execution_count": 46,
   "id": "03ee2b14-f531-481a-956d-584bb34aa588",
   "metadata": {},
   "outputs": [
    {
     "name": "stdout",
     "output_type": "stream",
     "text": [
      "Note: you may need to restart the kernel to use updated packages.\n"
     ]
    }
   ],
   "source": [
    "pip install -qU langchain_community beautifulsoup4"
   ]
  },
  {
   "cell_type": "code",
   "execution_count": 66,
   "id": "9b067ebf-8ab0-40c0-9297-949fb476dc31",
   "metadata": {},
   "outputs": [
    {
     "name": "stdout",
     "output_type": "stream",
     "text": [
      "Apply for Software Engineer I, ITC\n",
      "\n",
      "Search JobsSkip navigationSearch JobsNIKE, INC. JOBSContract JobsJoin The Talent CommunityLife @ NikeOverviewBenefitsBrandsOverviewJordanConverseTeamsOverviewAdministrative SupportAdvanced InnovationAir Manufacturing InnovationAviationCommunicationsCustomer ServiceDesignDigitalFacilitiesFinance & AccountingGovernment & Public AffairsHuman ResourcesInsights & AnalyticsLegalManufacturing & EngineeringMarketingMerchandisingPlanningPrivacyProcurementProduct Creation, Development & ManagementRetail CorporateRetail StoresSalesSocial & Community ImpactSports MarketingStrategic PlanningSupply Chain, Distribution & LogisticsSustainabilityTechnologyLocationsOverviewNike WHQNike New York HQEHQ: Hilversum, The NetherlandsELC: Laakdal, BelgiumGreater China HQDiversity, Equity & InclusionOverviewMilitary InclusionDisability InclusionIndigenous InclusionInternshipsTechnologySoftware Engineer I, ITCKarnataka, IndiaBecome a Part of the NIKE, Inc. TeamNIKE, Inc. does more than outfit the world’s best athletes. It is a place to explore potential, obliterate boundaries and push out the edges of what can be. The company looks for people who can grow, think, dream and create. Its culture thrives by embracing diversity and rewarding imagination. The brand seeks achievers, leaders and visionaries. At NIKE, Inc. it’s about each person bringing skills and passion to a challenging and constantly evolving game.NIKE is a technology company. From our flagship website and five-star mobile apps to developing products, managing big data and providing leading edge engineering and systems support, our teams at NIKE Global Technology exist to revolutionize the future at the confluence of tech and sport. We invest and develop advances in technology and employ the most creative people in the world, and then give them the support to constantly innovate, iterate and serve consumers more directly and personally.  Our teams are innovative, diverse, multidisciplinary and collaborative, taking technology into the future and bringing the world with it.WHO YOU’LL WORK WITHYou will be part of the Global Technology organization and report to the Engineering Manager. On a daily basis, you will collaborate with peer software engineers, product managers, and architects on product teams to achieve business objectives. Additionally, you will engage with other Global Technology teams to align on both organizational and individual development goals.WHO WE ARE LOOKING FORWe are seeking a ambitious Full Stack Software Engineer to join our dynamic team. You’ll be responsible for developing and maintaining both front-end and back-end applications, ensuring seamless and scalable experiences for users. You will play a critical role in building robust features, maintaining system performance, and collaborating across teams to deliver high-quality cloud native software solutions. If you thrive in a collaborative environment, are energized by innovative technology, and excel at problem-solving, this role may be a great fit for you.Key Qualifications:Bachelor’s Degree in Computer Science, Engineering, or a related field (or equivalent experience).1+ years** of professional experience as a Full Stack Software Engineer or in a similar role.Hands on Exposure on Front-End Skills in React or similar technologies.Hands on Exposure on in server-side programming languages such as Node.js, Python or similar.Database Expertise: Experience NoSQL databases.     API Development: Hands on exposure to designing and consuming RESTful APIs and web services.Cloud Technologies: Familiarity with cloud platforms preferably AWS, including experience with serverless architectures and cloud-native development.Version Control: Proficient with Git, GitHub, or similar version control tools.Testing Frameworks: Experience with unit testing, integration testing, and test-driven development (TDD).Problem-Solving: Strong debugging, troubleshooting, and performance optimization skills.Collaboration: Excellent communication and interpersonal skills, with the ability to work well in a team-oriented, fast-paced environment.Bonus Skills: Familiarity with CI/CD tools (e.g., Jenkins, CircleCI, GitLab), containerization technologies like Docker, or familiarity with microservices architecture.Ability to thrive in a fast-paced, dynamic environment with ambiguity.WHAT YOU’LL WORK ONAs a Software Engineer I, you will:Design & Develop: Build, test, and maintain scalable web applications and services. Work on both front-end and back-end development to deliver end-to-end functionality.Collaborate: Work closely with product managers, designers, and other engineers to define requirements, technical specifications, and deliver quality software.Front-End Development: Implement dynamic, responsive, and user-friendly web interfaces using modern JavaScript frameworks ( React).Back-End Development: Design and implement RESTful APIs, microservices, and backend services using technologies like Node.js, Python or similar.Database Management: Develop NoSQL databases, ensuring efficient data storage and retrieval.Testing & Quality Assurance: Write unit tests, integration tests, and maintain high code quality standards using tools such as Jest, Mocha, or similar.Performance Optimization: Identify and fix performance bottlenecks across the full stack, ensuring high availability and responsiveness.CI/CD Integration: Integrate with and maintain continuous integration/continuous deployment (CI/CD) pipelines for seamless software delivery.Agile Methodologies: Participate in Agile processes, including sprint planning, daily stand-ups, code reviews, and retrospectives.NIKE, Inc. is a growth company that looks for team members to grow with it. Nike offers a generous total rewards package, casual work environment, a diverse and inclusive culture, and an electric atmosphere for professional development. No matter the location, or the role, every Nike employee shares one galvanizing mission: To bring inspiration and innovation to every athlete* in the world.NIKE, Inc. is committed to employing a diverse workforce. Qualified applicants will receive consideration without regard to race, color, religion, sex, national origin, age, sexual orientation, gender identity, gender expression, veteran status, or disability.How We HireAt NIKE, Inc. we promise to provide a premium, inclusive, compelling and authentic candidate experience. Delivering on this promise means we allow you to be at your best — and to do that, you need to understand how the hiring process works. Transparency is key.\n",
      "\n",
      "* This overview explains our hiring process for corporate roles. Note there may be different hiring steps involved for non-corporate roles.Start nowBenefitsWhether it’s transportation or financial health, we continually invest in our employees to help them achieve greatness — inside and outside of work. All who work here should be able to realize their full potential.Employee Assistance ProgramHolidaysMedical PlanPaid Time Off (PTO)Product DiscountsLearn moreFIND A STOREBECOME A MEMBERSIGN UP FOR EMAILSEND US FEEDBACKSTUDENT DISCOUNTSGET HELPGET HELPOrder StatusDeliveryReturnsPayment OptionsContact Us On Nike.com InquiriesContact Us On All Other InquiriesABOUT NIKEABOUT NIKENewsCareersInvestorsSustainabilityIndia© 2024 Nike, Inc. All Rights ReservedGuidesNike AdaptNike Air MaxNike FlyleatherNike PegasusNike Zoom FlyNike AirNike FlyEaseNike FreeNike ReactNike ZoomXNike Air Force 1Nike FlyknitNike JoyrideNike VaporflyTerms of SaleTerms of UseNike Privacy Policy\n"
     ]
    }
   ],
   "source": [
    "from langchain_community.document_loaders import WebBaseLoader\n",
    "\n",
    "headers = {\n",
    "    \"User-Agent\": \"Mozilla/5.0 (Windows NT 10.0; Win64; x64) AppleWebKit/537.36 (KHTML, like Gecko) Chrome/58.0.3029.110 Safari/537.3\",\n",
    "    \"Accept\": \"text/html,application/xhtml+xml,application/xml;q=0.9,*/*;q=0.8\",\n",
    "    \"Accept-Language\": \"en-US,en;q=0.5\",\n",
    "    \"Connection\": \"keep-alive\"\n",
    "}\n",
    "\n",
    "loader = WebBaseLoader(\"https://jobs.nike.com/job/R-44515?from=job%20search%20funnel\", header_template=headers)\n",
    "data = loader.load().pop().page_content\n",
    "print(data)"
   ]
  },
  {
   "cell_type": "code",
   "execution_count": 68,
   "id": "e638d924-d083-4317-a6ae-c32d5afffd54",
   "metadata": {},
   "outputs": [
    {
     "name": "stdout",
     "output_type": "stream",
     "text": [
      "```json\n",
      "{\n",
      "  \"role\": \"Software Engineer I, ITC\",\n",
      "  \"experience\": \"1+ years\",\n",
      "  \"skills\": [\n",
      "    \"Front-End Skills in React or similar technologies\",\n",
      "    \"Server-side programming languages such as Node.js, Python or similar\",\n",
      "    \"NoSQL databases\",\n",
      "    \"API Development: designing and consuming RESTful APIs and web services\",\n",
      "    \"Cloud Technologies: familiarity with cloud platforms preferably AWS\",\n",
      "    \"Version Control: proficient with Git, GitHub, or similar version control tools\",\n",
      "    \"Testing Frameworks: experience with unit testing, integration testing, and test-driven development (TDD)\",\n",
      "    \"Problem-Solving: strong debugging, troubleshooting, and performance optimization skills\",\n",
      "    \"Collaboration: excellent communication and interpersonal skills\",\n",
      "    \"CI/CD tools (e.g., Jenkins, CircleCI, GitLab)\",\n",
      "    \"Containerization technologies like Docker\",\n",
      "    \"Microservices architecture\"\n",
      "  ],\n",
      "  \"description\": \"Design & Develop: Build, test, and maintain scalable web applications and services. Work on both front-end and back-end development to deliver end-to-end functionality. Collaborate: Work closely with product managers, designers, and other engineers to define requirements, technical specifications, and deliver quality software.\"\n",
      "}\n",
      "```\n"
     ]
    }
   ],
   "source": [
    "from langchain_core.prompts import PromptTemplate\n",
    "\n",
    "prompt_extract = PromptTemplate.from_template(\n",
    "        \"\"\"\n",
    "        ### SCRAPED TEXT FROM WEBSITE:\n",
    "        {data}\n",
    "        ### INSTRUCTION:\n",
    "        The scraped text is from the career's page of a website.\n",
    "        Your job is to extract the job postings and return them in JSON format containing the \n",
    "        following keys: `role`, `experience`, `skills` and `description`.\n",
    "        Only return the valid JSON.\n",
    "        ### VALID JSON (WITH NO PREAMBLE):    \n",
    "        \"\"\"\n",
    ")\n",
    "\n",
    "chain_extract = prompt_extract | llm\n",
    "res = chain_extract.invoke(input={'data':data})\n",
    "print(res.content)"
   ]
  },
  {
   "cell_type": "code",
   "execution_count": 76,
   "id": "ffbf02df-d5b0-4dca-b64a-a708989a0d30",
   "metadata": {},
   "outputs": [
    {
     "name": "stdout",
     "output_type": "stream",
     "text": [
      "{'role': 'Software Engineer I, ITC', 'experience': '1+ years', 'skills': ['Front-End Skills in React or similar technologies', 'Server-side programming languages such as Node.js, Python or similar', 'NoSQL databases', 'API Development: designing and consuming RESTful APIs and web services', 'Cloud Technologies: familiarity with cloud platforms preferably AWS', 'Version Control: proficient with Git, GitHub, or similar version control tools', 'Testing Frameworks: experience with unit testing, integration testing, and test-driven development (TDD)', 'Problem-Solving: strong debugging, troubleshooting, and performance optimization skills', 'Collaboration: excellent communication and interpersonal skills', 'CI/CD tools (e.g., Jenkins, CircleCI, GitLab)', 'Containerization technologies like Docker', 'Microservices architecture'], 'description': 'Design & Develop: Build, test, and maintain scalable web applications and services. Work on both front-end and back-end development to deliver end-to-end functionality. Collaborate: Work closely with product managers, designers, and other engineers to define requirements, technical specifications, and deliver quality software.'}\n"
     ]
    }
   ],
   "source": [
    "# Convert string object to dictionary\n",
    "from langchain_core.output_parsers import JsonOutputParser\n",
    "\n",
    "json_output_parser = JsonOutputParser()\n",
    "json_res = json_output_parser.parse(res.content)\n",
    "print(json_res)"
   ]
  },
  {
   "cell_type": "code",
   "execution_count": 89,
   "id": "f78d60d0-677d-4ebc-a477-cd1f7ff3c007",
   "metadata": {},
   "outputs": [
    {
     "ename": "NameError",
     "evalue": "name 'path' is not defined",
     "output_type": "error",
     "traceback": [
      "\u001b[0;31m---------------------------------------------------------------------------\u001b[0m",
      "\u001b[0;31mNameError\u001b[0m                                 Traceback (most recent call last)",
      "Cell \u001b[0;32mIn[89], line 3\u001b[0m\n\u001b[1;32m      1\u001b[0m \u001b[38;5;28;01mimport\u001b[39;00m \u001b[38;5;21;01mpandas\u001b[39;00m \u001b[38;5;28;01mas\u001b[39;00m \u001b[38;5;21;01mpd\u001b[39;00m\n\u001b[0;32m----> 3\u001b[0m path\n",
      "\u001b[0;31mNameError\u001b[0m: name 'path' is not defined"
     ]
    }
   ],
   "source": [
    "import pandas as pd\n"
   ]
  }
 ],
 "metadata": {
  "kernelspec": {
   "display_name": "Python 3 (ipykernel)",
   "language": "python",
   "name": "python3"
  },
  "language_info": {
   "codemirror_mode": {
    "name": "ipython",
    "version": 3
   },
   "file_extension": ".py",
   "mimetype": "text/x-python",
   "name": "python",
   "nbconvert_exporter": "python",
   "pygments_lexer": "ipython3",
   "version": "3.12.7"
  }
 },
 "nbformat": 4,
 "nbformat_minor": 5
}
