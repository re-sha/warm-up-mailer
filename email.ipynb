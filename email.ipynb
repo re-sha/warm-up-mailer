{
 "cells": [
  {
   "cell_type": "code",
   "execution_count": 44,
   "id": "13a80c13-91ed-43db-9836-2e16d9106f91",
   "metadata": {},
   "outputs": [
    {
     "name": "stdout",
     "output_type": "stream",
     "text": [
      "How can I assist you today?\n"
     ]
    }
   ],
   "source": [
    "from langchain_groq import ChatGroq\n",
    "\n",
    "llm = ChatGroq(\n",
    "    model=\"llama-3.1-70b-versatile\",\n",
    "    temperature=0,\n",
    "    groq_api_key=\"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\"\n",
    ")\n",
    "\n",
    "response = llm.invoke(\"Hi\")\n",
    "print(response.content)"
   ]
  },
  {
   "cell_type": "code",
   "execution_count": 46,
   "id": "03ee2b14-f531-481a-956d-584bb34aa588",
   "metadata": {},
   "outputs": [
    {
     "name": "stdout",
     "output_type": "stream",
     "text": [
      "Note: you may need to restart the kernel to use updated packages.\n"
     ]
    }
   ],
   "source": [
    "pip install -qU langchain_community beautifulsoup4"
   ]
  },
  {
   "cell_type": "code",
   "execution_count": 66,
   "id": "9b067ebf-8ab0-40c0-9297-949fb476dc31",
   "metadata": {},
   "outputs": [
    {
     "name": "stdout",
     "output_type": "stream",
     "text": [
      "Apply for Software Engineer I, ITC\n",
      "\n",
      "Search JobsSkip navigationSearch JobsNIKE, INC. JOBSContract JobsJoin The Talent CommunityLife @ NikeOverviewBenefitsBrandsOverviewJordanConverseTeamsOverviewAdministrative SupportAdvanced InnovationAir Manufacturing InnovationAviationCommunicationsCustomer ServiceDesignDigitalFacilitiesFinance & AccountingGovernment & Public AffairsHuman ResourcesInsights & AnalyticsLegalManufacturing & EngineeringMarketingMerchandisingPlanningPrivacyProcurementProduct Creation, Development & ManagementRetail CorporateRetail StoresSalesSocial & Community ImpactSports MarketingStrategic PlanningSupply Chain, Distribution & LogisticsSustainabilityTechnologyLocationsOverviewNike WHQNike New York HQEHQ: Hilversum, The NetherlandsELC: Laakdal, BelgiumGreater China HQDiversity, Equity & InclusionOverviewMilitary InclusionDisability InclusionIndigenous InclusionInternshipsTechnologySoftware Engineer I, ITCKarnataka, IndiaBecome a Part of the NIKE, Inc. TeamNIKE, Inc. does more than outfit the world’s best athletes. It is a place to explore potential, obliterate boundaries and push out the edges of what can be. The company looks for people who can grow, think, dream and create. Its culture thrives by embracing diversity and rewarding imagination. The brand seeks achievers, leaders and visionaries. At NIKE, Inc. it’s about each person bringing skills and passion to a challenging and constantly evolving game.NIKE is a technology company. From our flagship website and five-star mobile apps to developing products, managing big data and providing leading edge engineering and systems support, our teams at NIKE Global Technology exist to revolutionize the future at the confluence of tech and sport. We invest and develop advances in technology and employ the most creative people in the world, and then give them the support to constantly innovate, iterate and serve consumers more directly and personally.  Our teams are innovative, diverse, multidisciplinary and collaborative, taking technology into the future and bringing the world with it.WHO YOU’LL WORK WITHYou will be part of the Global Technology organization and report to the Engineering Manager. On a daily basis, you will collaborate with peer software engineers, product managers, and architects on product teams to achieve business objectives. Additionally, you will engage with other Global Technology teams to align on both organizational and individual development goals.WHO WE ARE LOOKING FORWe are seeking a ambitious Full Stack Software Engineer to join our dynamic team. You’ll be responsible for developing and maintaining both front-end and back-end applications, ensuring seamless and scalable experiences for users. You will play a critical role in building robust features, maintaining system performance, and collaborating across teams to deliver high-quality cloud native software solutions. If you thrive in a collaborative environment, are energized by innovative technology, and excel at problem-solving, this role may be a great fit for you.Key Qualifications:Bachelor’s Degree in Computer Science, Engineering, or a related field (or equivalent experience).1+ years** of professional experience as a Full Stack Software Engineer or in a similar role.Hands on Exposure on Front-End Skills in React or similar technologies.Hands on Exposure on in server-side programming languages such as Node.js, Python or similar.Database Expertise: Experience NoSQL databases.     API Development: Hands on exposure to designing and consuming RESTful APIs and web services.Cloud Technologies: Familiarity with cloud platforms preferably AWS, including experience with serverless architectures and cloud-native development.Version Control: Proficient with Git, GitHub, or similar version control tools.Testing Frameworks: Experience with unit testing, integration testing, and test-driven development (TDD).Problem-Solving: Strong debugging, troubleshooting, and performance optimization skills.Collaboration: Excellent communication and interpersonal skills, with the ability to work well in a team-oriented, fast-paced environment.Bonus Skills: Familiarity with CI/CD tools (e.g., Jenkins, CircleCI, GitLab), containerization technologies like Docker, or familiarity with microservices architecture.Ability to thrive in a fast-paced, dynamic environment with ambiguity.WHAT YOU’LL WORK ONAs a Software Engineer I, you will:Design & Develop: Build, test, and maintain scalable web applications and services. Work on both front-end and back-end development to deliver end-to-end functionality.Collaborate: Work closely with product managers, designers, and other engineers to define requirements, technical specifications, and deliver quality software.Front-End Development: Implement dynamic, responsive, and user-friendly web interfaces using modern JavaScript frameworks ( React).Back-End Development: Design and implement RESTful APIs, microservices, and backend services using technologies like Node.js, Python or similar.Database Management: Develop NoSQL databases, ensuring efficient data storage and retrieval.Testing & Quality Assurance: Write unit tests, integration tests, and maintain high code quality standards using tools such as Jest, Mocha, or similar.Performance Optimization: Identify and fix performance bottlenecks across the full stack, ensuring high availability and responsiveness.CI/CD Integration: Integrate with and maintain continuous integration/continuous deployment (CI/CD) pipelines for seamless software delivery.Agile Methodologies: Participate in Agile processes, including sprint planning, daily stand-ups, code reviews, and retrospectives.NIKE, Inc. is a growth company that looks for team members to grow with it. Nike offers a generous total rewards package, casual work environment, a diverse and inclusive culture, and an electric atmosphere for professional development. No matter the location, or the role, every Nike employee shares one galvanizing mission: To bring inspiration and innovation to every athlete* in the world.NIKE, Inc. is committed to employing a diverse workforce. Qualified applicants will receive consideration without regard to race, color, religion, sex, national origin, age, sexual orientation, gender identity, gender expression, veteran status, or disability.How We HireAt NIKE, Inc. we promise to provide a premium, inclusive, compelling and authentic candidate experience. Delivering on this promise means we allow you to be at your best — and to do that, you need to understand how the hiring process works. Transparency is key.\n",
      "\n",
      "* This overview explains our hiring process for corporate roles. Note there may be different hiring steps involved for non-corporate roles.Start nowBenefitsWhether it’s transportation or financial health, we continually invest in our employees to help them achieve greatness — inside and outside of work. All who work here should be able to realize their full potential.Employee Assistance ProgramHolidaysMedical PlanPaid Time Off (PTO)Product DiscountsLearn moreFIND A STOREBECOME A MEMBERSIGN UP FOR EMAILSEND US FEEDBACKSTUDENT DISCOUNTSGET HELPGET HELPOrder StatusDeliveryReturnsPayment OptionsContact Us On Nike.com InquiriesContact Us On All Other InquiriesABOUT NIKEABOUT NIKENewsCareersInvestorsSustainabilityIndia© 2024 Nike, Inc. All Rights ReservedGuidesNike AdaptNike Air MaxNike FlyleatherNike PegasusNike Zoom FlyNike AirNike FlyEaseNike FreeNike ReactNike ZoomXNike Air Force 1Nike FlyknitNike JoyrideNike VaporflyTerms of SaleTerms of UseNike Privacy Policy\n"
     ]
    }
   ],
   "source": [
    "from langchain_community.document_loaders import WebBaseLoader\n",
    "\n",
    "headers = {\n",
    "    \"User-Agent\": \"Mozilla/5.0 (Windows NT 10.0; Win64; x64) AppleWebKit/537.36 (KHTML, like Gecko) Chrome/58.0.3029.110 Safari/537.3\",\n",
    "    \"Accept\": \"text/html,application/xhtml+xml,application/xml;q=0.9,*/*;q=0.8\",\n",
    "    \"Accept-Language\": \"en-US,en;q=0.5\",\n",
    "    \"Connection\": \"keep-alive\"\n",
    "}\n",
    "\n",
    "loader = WebBaseLoader(\"https://jobs.nike.com/job/R-44515?from=job%20search%20funnel\", header_template=headers)\n",
    "data = loader.load().pop().page_content\n",
    "print(data)"
   ]
  },
  {
   "cell_type": "code",
   "execution_count": 68,
   "id": "e638d924-d083-4317-a6ae-c32d5afffd54",
   "metadata": {},
   "outputs": [
    {
     "name": "stdout",
     "output_type": "stream",
     "text": [
      "```json\n",
      "{\n",
      "  \"role\": \"Software Engineer I, ITC\",\n",
      "  \"experience\": \"1+ years\",\n",
      "  \"skills\": [\n",
      "    \"Front-End Skills in React or similar technologies\",\n",
      "    \"Server-side programming languages such as Node.js, Python or similar\",\n",
      "    \"NoSQL databases\",\n",
      "    \"API Development: designing and consuming RESTful APIs and web services\",\n",
      "    \"Cloud Technologies: familiarity with cloud platforms preferably AWS\",\n",
      "    \"Version Control: proficient with Git, GitHub, or similar version control tools\",\n",
      "    \"Testing Frameworks: experience with unit testing, integration testing, and test-driven development (TDD)\",\n",
      "    \"Problem-Solving: strong debugging, troubleshooting, and performance optimization skills\",\n",
      "    \"Collaboration: excellent communication and interpersonal skills\",\n",
      "    \"CI/CD tools (e.g., Jenkins, CircleCI, GitLab)\",\n",
      "    \"Containerization technologies like Docker\",\n",
      "    \"Microservices architecture\"\n",
      "  ],\n",
      "  \"description\": \"Design & Develop: Build, test, and maintain scalable web applications and services. Work on both front-end and back-end development to deliver end-to-end functionality. Collaborate: Work closely with product managers, designers, and other engineers to define requirements, technical specifications, and deliver quality software.\"\n",
      "}\n",
      "```\n"
     ]
    }
   ],
   "source": [
    "from langchain_core.prompts import PromptTemplate\n",
    "\n",
    "prompt_extract = PromptTemplate.from_template(\n",
    "        \"\"\"\n",
    "        ### SCRAPED TEXT FROM WEBSITE:\n",
    "        {data}\n",
    "        ### INSTRUCTION:\n",
    "        The scraped text is from the career's page of a website.\n",
    "        Your job is to extract the job postings and return them in JSON format containing the \n",
    "        following keys: `role`, `experience`, `skills` and `description`.\n",
    "        Only return the valid JSON.\n",
    "        ### VALID JSON (WITH NO PREAMBLE):    \n",
    "        \"\"\"\n",
    ")\n",
    "\n",
    "chain_extract = prompt_extract | llm\n",
    "res = chain_extract.invoke(input={'data':data})\n",
    "print(res.content)"
   ]
  },
  {
   "cell_type": "code",
   "execution_count": 76,
   "id": "ffbf02df-d5b0-4dca-b64a-a708989a0d30",
   "metadata": {},
   "outputs": [
    {
     "name": "stdout",
     "output_type": "stream",
     "text": [
      "{'role': 'Software Engineer I, ITC', 'experience': '1+ years', 'skills': ['Front-End Skills in React or similar technologies', 'Server-side programming languages such as Node.js, Python or similar', 'NoSQL databases', 'API Development: designing and consuming RESTful APIs and web services', 'Cloud Technologies: familiarity with cloud platforms preferably AWS', 'Version Control: proficient with Git, GitHub, or similar version control tools', 'Testing Frameworks: experience with unit testing, integration testing, and test-driven development (TDD)', 'Problem-Solving: strong debugging, troubleshooting, and performance optimization skills', 'Collaboration: excellent communication and interpersonal skills', 'CI/CD tools (e.g., Jenkins, CircleCI, GitLab)', 'Containerization technologies like Docker', 'Microservices architecture'], 'description': 'Design & Develop: Build, test, and maintain scalable web applications and services. Work on both front-end and back-end development to deliver end-to-end functionality. Collaborate: Work closely with product managers, designers, and other engineers to define requirements, technical specifications, and deliver quality software.'}\n"
     ]
    }
   ],
   "source": [
    "# Convert string object to dictionary\n",
    "from langchain_core.output_parsers import JsonOutputParser\n",
    "\n",
    "json_output_parser = JsonOutputParser()\n",
    "json_res = json_output_parser.parse(res.content)\n",
    "print(json_res)"
   ]
  },
  {
   "cell_type": "code",
   "execution_count": 96,
   "id": "f78d60d0-677d-4ebc-a477-cd1f7ff3c007",
   "metadata": {},
   "outputs": [
    {
     "data": {
      "text/html": [
       "<div>\n",
       "<style scoped>\n",
       "    .dataframe tbody tr th:only-of-type {\n",
       "        vertical-align: middle;\n",
       "    }\n",
       "\n",
       "    .dataframe tbody tr th {\n",
       "        vertical-align: top;\n",
       "    }\n",
       "\n",
       "    .dataframe thead th {\n",
       "        text-align: right;\n",
       "    }\n",
       "</style>\n",
       "<table border=\"1\" class=\"dataframe\">\n",
       "  <thead>\n",
       "    <tr style=\"text-align: right;\">\n",
       "      <th></th>\n",
       "      <th>Tech Stacks</th>\n",
       "      <th>Portfolio URL</th>\n",
       "    </tr>\n",
       "  </thead>\n",
       "  <tbody>\n",
       "    <tr>\n",
       "      <th>0</th>\n",
       "      <td>Cloud Computing, AWS, Terraform</td>\n",
       "      <td>https://cassanellicarlo.com</td>\n",
       "    </tr>\n",
       "    <tr>\n",
       "      <th>1</th>\n",
       "      <td>Cloud Engineering, GCP, Kubernetes</td>\n",
       "      <td>https://biztechcollege.com/biztalk/cloud-engin...</td>\n",
       "    </tr>\n",
       "    <tr>\n",
       "      <th>2</th>\n",
       "      <td>DevOps, CI/CD, Docker</td>\n",
       "      <td>https://djomegni.com</td>\n",
       "    </tr>\n",
       "    <tr>\n",
       "      <th>3</th>\n",
       "      <td>Cloud Architecture, Azure, Microservices</td>\n",
       "      <td>https://example.com/cloud-architect-portfolio</td>\n",
       "    </tr>\n",
       "    <tr>\n",
       "      <th>4</th>\n",
       "      <td>Frontend Development, React, Redux</td>\n",
       "      <td>https://example.com/react-developer-portfolio</td>\n",
       "    </tr>\n",
       "    <tr>\n",
       "      <th>5</th>\n",
       "      <td>Backend Development, Node.js, Express</td>\n",
       "      <td>https://example.com/nodejs-developer-portfolio</td>\n",
       "    </tr>\n",
       "    <tr>\n",
       "      <th>6</th>\n",
       "      <td>Full Stack Development, MERN Stack</td>\n",
       "      <td>https://example.com/fullstack-developer-portfolio</td>\n",
       "    </tr>\n",
       "    <tr>\n",
       "      <th>7</th>\n",
       "      <td>Data Engineering, Python, Apache Spark</td>\n",
       "      <td>https://example.com/data-engineer-portfolio</td>\n",
       "    </tr>\n",
       "    <tr>\n",
       "      <th>8</th>\n",
       "      <td>Mobile Development, Flutter</td>\n",
       "      <td>https://example.com/flutter-developer-portfolio</td>\n",
       "    </tr>\n",
       "    <tr>\n",
       "      <th>9</th>\n",
       "      <td>Cybersecurity, Penetration Testing</td>\n",
       "      <td>https://example.com/cybersecurity-portfolio</td>\n",
       "    </tr>\n",
       "    <tr>\n",
       "      <th>10</th>\n",
       "      <td>Game Development, Unity, C</td>\n",
       "      <td>https://example.com/game-developer-portfolio</td>\n",
       "    </tr>\n",
       "    <tr>\n",
       "      <th>11</th>\n",
       "      <td>UI/UX Design, Figma</td>\n",
       "      <td>https://example.com/uiux-designer-portfolio</td>\n",
       "    </tr>\n",
       "    <tr>\n",
       "      <th>12</th>\n",
       "      <td>Machine Learning, TensorFlow</td>\n",
       "      <td>https://example.com/machine-learning-portfolio</td>\n",
       "    </tr>\n",
       "    <tr>\n",
       "      <th>13</th>\n",
       "      <td>Blockchain Development, Ethereum</td>\n",
       "      <td>https://example.com/blockchain-developer-portf...</td>\n",
       "    </tr>\n",
       "    <tr>\n",
       "      <th>14</th>\n",
       "      <td>Network Engineering, Cisco</td>\n",
       "      <td>https://example.com/network-engineer-portfolio</td>\n",
       "    </tr>\n",
       "    <tr>\n",
       "      <th>15</th>\n",
       "      <td>QA Engineering, Selenium</td>\n",
       "      <td>https://example.com/qa-engineer-portfolio</td>\n",
       "    </tr>\n",
       "    <tr>\n",
       "      <th>16</th>\n",
       "      <td>Business Analysis, SQL</td>\n",
       "      <td>https://example.com/business-analyst-portfolio</td>\n",
       "    </tr>\n",
       "    <tr>\n",
       "      <th>17</th>\n",
       "      <td>Technical Writing, Documentation</td>\n",
       "      <td>https://example.com/technical-writer-portfolio</td>\n",
       "    </tr>\n",
       "    <tr>\n",
       "      <th>18</th>\n",
       "      <td>Product Management, Agile</td>\n",
       "      <td>https://example.com/product-manager-portfolio</td>\n",
       "    </tr>\n",
       "    <tr>\n",
       "      <th>19</th>\n",
       "      <td>Systems Administration, Linux</td>\n",
       "      <td>https://example.com/systems-admin-portfolio</td>\n",
       "    </tr>\n",
       "  </tbody>\n",
       "</table>\n",
       "</div>"
      ],
      "text/plain": [
       "                                 Tech Stacks  \\\n",
       "0            Cloud Computing, AWS, Terraform   \n",
       "1         Cloud Engineering, GCP, Kubernetes   \n",
       "2                      DevOps, CI/CD, Docker   \n",
       "3   Cloud Architecture, Azure, Microservices   \n",
       "4         Frontend Development, React, Redux   \n",
       "5      Backend Development, Node.js, Express   \n",
       "6         Full Stack Development, MERN Stack   \n",
       "7     Data Engineering, Python, Apache Spark   \n",
       "8                Mobile Development, Flutter   \n",
       "9         Cybersecurity, Penetration Testing   \n",
       "10                Game Development, Unity, C   \n",
       "11                       UI/UX Design, Figma   \n",
       "12              Machine Learning, TensorFlow   \n",
       "13          Blockchain Development, Ethereum   \n",
       "14                Network Engineering, Cisco   \n",
       "15                  QA Engineering, Selenium   \n",
       "16                    Business Analysis, SQL   \n",
       "17          Technical Writing, Documentation   \n",
       "18                 Product Management, Agile   \n",
       "19             Systems Administration, Linux   \n",
       "\n",
       "                                        Portfolio URL  \n",
       "0                         https://cassanellicarlo.com  \n",
       "1   https://biztechcollege.com/biztalk/cloud-engin...  \n",
       "2                                https://djomegni.com  \n",
       "3       https://example.com/cloud-architect-portfolio  \n",
       "4       https://example.com/react-developer-portfolio  \n",
       "5      https://example.com/nodejs-developer-portfolio  \n",
       "6   https://example.com/fullstack-developer-portfolio  \n",
       "7         https://example.com/data-engineer-portfolio  \n",
       "8     https://example.com/flutter-developer-portfolio  \n",
       "9         https://example.com/cybersecurity-portfolio  \n",
       "10       https://example.com/game-developer-portfolio  \n",
       "11        https://example.com/uiux-designer-portfolio  \n",
       "12     https://example.com/machine-learning-portfolio  \n",
       "13  https://example.com/blockchain-developer-portf...  \n",
       "14     https://example.com/network-engineer-portfolio  \n",
       "15          https://example.com/qa-engineer-portfolio  \n",
       "16     https://example.com/business-analyst-portfolio  \n",
       "17     https://example.com/technical-writer-portfolio  \n",
       "18      https://example.com/product-manager-portfolio  \n",
       "19        https://example.com/systems-admin-portfolio  "
      ]
     },
     "execution_count": 96,
     "metadata": {},
     "output_type": "execute_result"
    }
   ],
   "source": [
    "import pandas as pd\n",
    "\n",
    "df = pd.read_csv(\"skills_portfolio_data.csv\")\n",
    "df"
   ]
  },
  {
   "cell_type": "code",
   "execution_count": 100,
   "id": "86368dc7-a730-42ab-978e-9027d86f3613",
   "metadata": {},
   "outputs": [],
   "source": [
    "import uuid\n",
    "import chromadb\n",
    "\n",
    "client = chromadb.PersistentClient('vectorstore')\n",
    "collection = client.get_or_create_collection(name=\"skill_portfolios\")\n",
    "\n",
    "if not collection.count():\n",
    "    for _, row in df.iterrows():\n",
    "        collection.add(documents=row[\"Tech Stacks\"],\n",
    "                       metadatas={\"URLs\": row[\"Portfolio URL\"]},\n",
    "                       ids=[str(uuid.uuid4())])"
   ]
  },
  {
   "cell_type": "code",
   "execution_count": 108,
   "id": "f12dcae1-c5fc-4ae6-a402-586a1d044d3f",
   "metadata": {},
   "outputs": [
    {
     "name": "stdout",
     "output_type": "stream",
     "text": [
      "{'ids': [['1d0a1b7a-8f05-4127-a77b-17100aaf4ceb', '203bb83d-7f65-440a-a59a-daf601b16673']], 'embeddings': None, 'documents': [['Mobile Development, Flutter', 'Game Development, Unity, C']], 'uris': None, 'data': None, 'metadatas': [[{'URLs': 'https://example.com/flutter-developer-portfolio'}, {'URLs': 'https://example.com/game-developer-portfolio'}]], 'distances': [[1.1553346875275077, 1.4437176196353125]], 'included': [<IncludeEnum.distances: 'distances'>, <IncludeEnum.documents: 'documents'>, <IncludeEnum.metadatas: 'metadatas'>]}\n"
     ]
    }
   ],
   "source": [
    "a_query = collection.query(\n",
    "    query_texts=['proficient in native apps'],\n",
    "    n_results=2\n",
    ")\n",
    "print(a_query)"
   ]
  },
  {
   "cell_type": "code",
   "execution_count": 118,
   "id": "10773ce4-3fea-426e-af24-43c291437138",
   "metadata": {},
   "outputs": [
    {
     "name": "stdout",
     "output_type": "stream",
     "text": [
      "[[{'URLs': 'https://example.com/react-developer-portfolio'}, {'URLs': 'https://example.com/nodejs-developer-portfolio'}], [{'URLs': 'https://example.com/nodejs-developer-portfolio'}, {'URLs': 'https://example.com/data-engineer-portfolio'}], [{'URLs': 'https://cassanellicarlo.com'}, {'URLs': 'https://example.com/data-engineer-portfolio'}], [{'URLs': 'https://example.com/nodejs-developer-portfolio'}, {'URLs': 'https://example.com/cloud-architect-portfolio'}], [{'URLs': 'https://cassanellicarlo.com'}, {'URLs': 'https://biztechcollege.com/biztalk/cloud-engineer-portfolio/'}], [{'URLs': 'https://example.com/systems-admin-portfolio'}, {'URLs': 'https://djomegni.com'}], [{'URLs': 'https://example.com/cybersecurity-portfolio'}, {'URLs': 'https://example.com/qa-engineer-portfolio'}], [{'URLs': 'https://example.com/product-manager-portfolio'}, {'URLs': 'https://example.com/game-developer-portfolio'}], [{'URLs': 'https://example.com/technical-writer-portfolio'}, {'URLs': 'https://example.com/blockchain-developer-portfolio'}], [{'URLs': 'https://djomegni.com'}, {'URLs': 'https://example.com/systems-admin-portfolio'}], [{'URLs': 'https://djomegni.com'}, {'URLs': 'https://biztechcollege.com/biztalk/cloud-engineer-portfolio/'}], [{'URLs': 'https://example.com/cloud-architect-portfolio'}, {'URLs': 'https://biztechcollege.com/biztalk/cloud-engineer-portfolio/'}]]\n"
     ]
    }
   ],
   "source": [
    "job=json_res\n",
    "\n",
    "a_query = collection.query(\n",
    "    query_texts=job['skills'],\n",
    "    n_results=2\n",
    ").get('metadatas',[])\n",
    "print(a_query)\n"
   ]
  },
  {
   "cell_type": "code",
   "execution_count": 120,
   "id": "102ddc34-448c-4bdc-adbd-236e2ab45b34",
   "metadata": {},
   "outputs": [
    {
     "data": {
      "text/plain": [
       "['Front-End Skills in React or similar technologies',\n",
       " 'Server-side programming languages such as Node.js, Python or similar',\n",
       " 'NoSQL databases',\n",
       " 'API Development: designing and consuming RESTful APIs and web services',\n",
       " 'Cloud Technologies: familiarity with cloud platforms preferably AWS',\n",
       " 'Version Control: proficient with Git, GitHub, or similar version control tools',\n",
       " 'Testing Frameworks: experience with unit testing, integration testing, and test-driven development (TDD)',\n",
       " 'Problem-Solving: strong debugging, troubleshooting, and performance optimization skills',\n",
       " 'Collaboration: excellent communication and interpersonal skills',\n",
       " 'CI/CD tools (e.g., Jenkins, CircleCI, GitLab)',\n",
       " 'Containerization technologies like Docker',\n",
       " 'Microservices architecture']"
      ]
     },
     "execution_count": 120,
     "metadata": {},
     "output_type": "execute_result"
    }
   ],
   "source": [
    "job['skills']"
   ]
  },
  {
   "cell_type": "code",
   "execution_count": 122,
   "id": "7d794adf-3133-43f5-a9ca-00f671719b96",
   "metadata": {},
   "outputs": [
    {
     "name": "stdout",
     "output_type": "stream",
     "text": [
      "Subject: Unlocking Digital Potential with Adobe's Expertise\n",
      "\n",
      "Dear [Hiring Manager's Name],\n",
      "\n",
      "I came across the job description for a Software Engineer I, ITC, and I was impressed by the emphasis on building scalable web applications and services. As a General Manager at Adobe, I'd like to highlight how our team's expertise aligns with your requirements and showcase our capabilities in delivering tailored solutions.\n",
      "\n",
      "Our team has extensive experience in Front-End development using React, as demonstrated in this portfolio: https://example.com/react-developer-portfolio. We've also worked on various Server-side programming languages, including Node.js, as seen in this example: https://example.com/nodejs-developer-portfolio. Our expertise in NoSQL databases, API Development, and Cloud Technologies (preferably AWS) ensures seamless integration and scalability.\n",
      "\n",
      "We understand the importance of collaboration and have a proven track record of working closely with product managers, designers, and other engineers to deliver quality software. Our team is well-versed in Version Control tools like Git, GitHub, and CI/CD tools such as Jenkins and CircleCI. We also have experience with Containerization technologies like Docker and Microservices architecture.\n",
      "\n",
      "I'd like to draw your attention to our work on cloud platforms, as showcased in this portfolio: https://biztechcollege.com/biztalk/cloud-engineer-portfolio/. Our team has also demonstrated expertise in data engineering, as seen in this example: https://example.com/data-engineer-portfolio.\n",
      "\n",
      "At Adobe, we're committed to empowering individuals and businesses to create exceptional digital experiences. I believe our team's skills and expertise would be a great fit for your organization. I'd love to schedule a call to discuss how we can help you achieve your goals.\n",
      "\n",
      "Please let me know if you're interested, and I'll be happy to set up a call at your convenience.\n",
      "\n",
      "Best regards,\n",
      "\n",
      "Josh\n",
      "General Manager, Adobe\n"
     ]
    }
   ],
   "source": [
    "prompt_email = PromptTemplate.from_template(\n",
    "        \"\"\"\n",
    "        ### JOB DESCRIPTION:\n",
    "        {job_description}\n",
    "        \n",
    "        ### INSTRUCTION:\n",
    "        You are Josh, a General Manager at Adobe. Adobe is a leading software company known for its innovative solutions that \n",
    "        empower individuals and businesses to create, manage, and deliver exceptional digital experiences. Your role involves \n",
    "        overseeing operations and driving strategic initiatives that enhance productivity and creativity across various sectors. \n",
    "        Your task is to write a cold email to a potential client, highlighting Adobe's capabilities in meeting their specific \n",
    "        needs with tailored solutions. Additionally, incorporate relevant examples from the following links to showcase Adobe's \n",
    "        portfolio: {link_list}. Remember, you are Josh, General Manager at Adobe.\n",
    "        Do not provide a preamble.\n",
    "        ### EMAIL (NO PREAMBLE):\n",
    "        \n",
    "        \"\"\"\n",
    "        )\n",
    "\n",
    "chain_email = prompt_email | llm\n",
    "res = chain_email.invoke({\"job_description\": str(job), \"link_list\": a_query})\n",
    "print(res.content)"
   ]
  }
 ],
 "metadata": {
  "kernelspec": {
   "display_name": "Python 3 (ipykernel)",
   "language": "python",
   "name": "python3"
  },
  "language_info": {
   "codemirror_mode": {
    "name": "ipython",
    "version": 3
   },
   "file_extension": ".py",
   "mimetype": "text/x-python",
   "name": "python",
   "nbconvert_exporter": "python",
   "pygments_lexer": "ipython3",
   "version": "3.12.7"
  }
 },
 "nbformat": 4,
 "nbformat_minor": 5
}
