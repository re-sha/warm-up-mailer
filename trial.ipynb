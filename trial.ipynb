{
 "cells": [
  {
   "cell_type": "code",
   "execution_count": 15,
   "id": "78d59b36-1480-4fa8-a22e-d0bf2de4b8c2",
   "metadata": {},
   "outputs": [
    {
     "name": "stdout",
     "output_type": "stream",
     "text": [
      "Note: you may need to restart the kernel to use updated packages.\n"
     ]
    }
   ],
   "source": [
    "pip install -qU langchain-groq"
   ]
  },
  {
   "cell_type": "code",
   "execution_count": 17,
   "id": "3b623315-41a4-4216-96d4-3620022f1074",
   "metadata": {},
   "outputs": [
    {
     "name": "stdout",
     "output_type": "stream",
     "text": [
      "The most grossing YouTuber can vary depending on the source and the time frame considered. However, based on recent data and reports, here are some of the top-grossing YouTubers:\n",
      "\n",
      "1. **MrBeast (Jimmy Donaldson)**: Estimated earnings: $54 million - $100 million per year. MrBeast is known for his generous and often absurd stunts, giveaways, and charitable donations.\n",
      "2. **Dude Perfect**: Estimated earnings: $20 million - $50 million per year. Dude Perfect is a sports and entertainment group that creates videos featuring trick shots and challenges.\n",
      "3. **Ryan ToysReview**: Estimated earnings: $20 million - $30 million per year. Ryan ToysReview is a channel run by a child who reviews toys and products.\n",
      "4. **Shane Dawson**: Estimated earnings: $15 million - $30 million per year. Shane Dawson is a YouTuber and filmmaker known for his documentary series and conspiracy theories.\n",
      "5. **Jeffree Star**: Estimated earnings: $15 million - $20 million per year. Jeffree Star is a beauty YouTuber and makeup artist who creates content around cosmetics and lifestyle.\n",
      "\n",
      "Note: These estimates may vary and are based on data from 2022 and 2023. The actual earnings of these YouTubers may be higher or lower.\n",
      "\n",
      "Sources:\n",
      "\n",
      "* Forbes: \"The World's Highest-Paid YouTubers 2022\"\n",
      "* Business Insider: \"The top 10 highest-paid YouTubers of 2022\"\n",
      "* Hopper HQ: \"The Top 100 Highest-Paid YouTubers 2023\"\n"
     ]
    }
   ],
   "source": [
    "from langchain_groq import ChatGroq\n",
    "\n",
    "llm = ChatGroq(\n",
    "    model=\"llama-3.1-70b-versatile\",\n",
    "    temperature=0,\n",
    "    groq_api_key=\"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\"\n",
    ")\n",
    "\n",
    "response = llm.invoke(\"Who is the most grossing youtuber now\")\n",
    "print(response.content)"
   ]
  },
  {
   "cell_type": "code",
   "execution_count": null,
   "id": "c433045a-e0cb-496f-97b8-0c9bff233e61",
   "metadata": {},
   "outputs": [],
   "source": []
  }
 ],
 "metadata": {
  "kernelspec": {
   "display_name": "Python 3 (ipykernel)",
   "language": "python",
   "name": "python3"
  },
  "language_info": {
   "codemirror_mode": {
    "name": "ipython",
    "version": 3
   },
   "file_extension": ".py",
   "mimetype": "text/x-python",
   "name": "python",
   "nbconvert_exporter": "python",
   "pygments_lexer": "ipython3",
   "version": "3.12.7"
  }
 },
 "nbformat": 4,
 "nbformat_minor": 5
}
